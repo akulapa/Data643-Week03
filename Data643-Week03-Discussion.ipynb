{
 "cells": [
  {
   "cell_type": "markdown",
   "metadata": {},
   "source": [
    "#### Data 643 Week 3 Research Discussion Assignment 2\n",
    "_Pavan Akula_\n",
    "\n",
    "After viewing the video https://www.youtube.com/watch?v=3LBgiFch4_g&feature=youtu.be, it reminded me of an article written by _Robert Kiyosaki_, _The Need for Speed_. http://www.richdad.com/Resources/Rich-Dad-Financial-Education-Blog/April-2012/New-Rule-of-Money-5-The-Need-for-Speed.aspx\n",
    "\n",
    "Speaker in the video Christopher Johnson of Spotify makes a similar argument but in technical terms. Today most recommender systems are built around consumer attention span. If the consumer cannot spot exciting or interesting recommendation fast enough, he/she is moving on with another website or app.\n",
    "\n",
    "Video between $11^{th}$ and $18^{th}$ minute caught my attention, where speaker talks about how his team is trying to overcome I/O bottleneck. \n",
    "\n",
    "Being a database administrator for more than 15 years, I got used to hearing _how can we make the process run faster?_.\n",
    "\n",
    "In my previous job, I have worked on image processing system where the user needed to extract information by viewing 3 to 4 images. Each image was approximately 2 to 5MB in size and was stored on a central server inside a data center. Each time user processed an event we were transferring back forth about 10MB data over the network.\n",
    "\n",
    "With the goal to improve system efficiency, my team came up with an idea of creating thumbnail images and also, slice the actual image. This was a lot of process behind-the-scenes. \n",
    "\n",
    "- Our initial iteration was to process one image at a time, slice the image and thumbnail it. A single application was running on the server doing precisely that. After some initial success, the question came back, can we advance it faster.\n",
    "\n",
    "- Our second iteration was to run multiple processes. Randomly pick an image, slice, and thumbnail it. Again after initial successes, we ran into a problem user would see a partially processed event in the application. Thumbnail was created for first two images and last two not yet.\n",
    "\n",
    "- During the third iteration, we grouped images that belong to a single event and created a _queue system_.\n",
    "\n",
    "It was an exciting project. We were able to reduce network transfers and increase productivity. However, we could not reduce I/O bottleneck as in-memory processing was just entering the market. The thing that I have learned being on the project was to process small information with multiple queues.\n",
    "\n",
    "One day I would like to work on processing data in-memory. In the meantime, I would love to hear from my fellow students about their experience.\n"
   ]
  }
 ],
 "metadata": {
  "kernelspec": {
   "display_name": "Python 3",
   "language": "python",
   "name": "python3"
  },
  "language_info": {
   "codemirror_mode": {
    "name": "ipython",
    "version": 3
   },
   "file_extension": ".py",
   "mimetype": "text/x-python",
   "name": "python",
   "nbconvert_exporter": "python",
   "pygments_lexer": "ipython3",
   "version": "3.6.5"
  }
 },
 "nbformat": 4,
 "nbformat_minor": 2
}
